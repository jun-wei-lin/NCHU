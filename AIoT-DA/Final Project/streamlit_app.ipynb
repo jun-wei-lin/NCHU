{
  "nbformat": 4,
  "nbformat_minor": 0,
  "metadata": {
    "colab": {
      "provenance": [],
      "authorship_tag": "ABX9TyP5FZMuGv/2FfhUGjUjO8lM",
      "include_colab_link": true
    },
    "kernelspec": {
      "name": "python3",
      "display_name": "Python 3"
    },
    "language_info": {
      "name": "python"
    }
  },
  "cells": [
    {
      "cell_type": "markdown",
      "metadata": {
        "id": "view-in-github",
        "colab_type": "text"
      },
      "source": [
        "<a href=\"https://colab.research.google.com/github/jun-wei-lin/NCHU/blob/main/AIoT-DA/Final%20Project/streamlit_app.ipynb\" target=\"_parent\"><img src=\"https://colab.research.google.com/assets/colab-badge.svg\" alt=\"Open In Colab\"/></a>"
      ]
    },
    {
      "cell_type": "code",
      "source": [
        "import streamlit as st\n",
        "from wordcloud import WordCloud\n",
        "import matplotlib.pyplot as plt\n",
        "\n",
        "# 使用函數封裝原始邏輯\n",
        "def run_analysis(keyword, period):\n",
        "    # 假設這裡是您的爬蟲和分析代碼\n",
        "    # 返回分析結果和文字雲數據\n",
        "    result = {\"關鍵字\": keyword, \"期間\": period, \"分析狀態\": \"完成\"}\n",
        "    word_freq = {\"示例詞1\": 50, \"示例詞2\": 30}\n",
        "    return result, word_freq\n",
        "\n",
        "# Streamlit 應用邏輯\n",
        "st.title(\"熱門關鍵字分析\")\n",
        "keyword = st.text_input(\"請輸入關鍵字：\")\n",
        "period = st.number_input(\"請輸入搜尋期間（月）\", min_value=1, value=3)\n",
        "\n",
        "if st.button(\"開始分析\"):\n",
        "    result, word_freq = run_analysis(keyword, period)\n",
        "    st.json(result)\n",
        "\n",
        "    # 顯示文字雲\n",
        "    wordcloud = WordCloud(width=800, height=400, background_color=\"white\").generate_from_frequencies(word_freq)\n",
        "    plt.imshow(wordcloud, interpolation=\"bilinear\")\n",
        "    plt.axis(\"off\")\n",
        "    st.pyplot(plt)\n"
      ],
      "metadata": {
        "id": "lanv9o4CEAL9"
      },
      "execution_count": null,
      "outputs": []
    }
  ]
}