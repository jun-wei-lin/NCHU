{
  "nbformat": 4,
  "nbformat_minor": 0,
  "metadata": {
    "colab": {
      "provenance": [],
      "gpuType": "T4"
    },
    "kernelspec": {
      "name": "python3",
      "display_name": "Python 3"
    },
    "language_info": {
      "name": "python"
    },
    "accelerator": "GPU"
  },
  "cells": [
    {
      "cell_type": "markdown",
      "source": [
        "HW2 分類問題\n"
      ],
      "metadata": {
        "id": "rKle-HletlrM"
      }
    },
    {
      "cell_type": "markdown",
      "source": [
        "step.1 CRISP-DM 框架"
      ],
      "metadata": {
        "id": "aprP3oLvtwa6"
      }
    },
    {
      "cell_type": "code",
      "source": [
        "import numpy as np\n",
        "import pandas as pd\n",
        "\n",
        "import torch\n",
        "import torch.nn as nn\n",
        "from torchvision import transforms\n",
        "from torch.utils.data import Dataset,DataLoader\n",
        "\n",
        "from sklearn.model_selection import train_test_split\n",
        "from sklearn.preprocessing import LabelEncoder, StandardScaler\n",
        "from sklearn.impute import SimpleImputer\n"
      ],
      "metadata": {
        "id": "Bxdo1d26tatC"
      },
      "execution_count": 1,
      "outputs": []
    },
    {
      "cell_type": "markdown",
      "source": [
        "step.2 從網路取得資料（train.csv、test.csv）"
      ],
      "metadata": {
        "id": "JhoF6UFQvU1q"
      }
    },
    {
      "cell_type": "code",
      "source": [
        "##從github找到Titanic-Machine-Learning-from-Disaster train.csv test.csv Raw檔 載入\n",
        "\n",
        "test_data=pd.read_csv(\"https://raw.githubusercontent.com/ashishpatel26/Titanic-Machine-Learning-from-Disaster/refs/heads/master/input/test.csv\")\n",
        "train_data=pd.read_csv(\"https://raw.githubusercontent.com/ashishpatel26/Titanic-Machine-Learning-from-Disaster/refs/heads/master/input/train.csv\")"
      ],
      "metadata": {
        "id": "vK-uB8cKt2fq"
      },
      "execution_count": 2,
      "outputs": []
    },
    {
      "cell_type": "code",
      "source": [
        "print(test_data.info(),\"\\n\")\n",
        "print(train_data.info())"
      ],
      "metadata": {
        "colab": {
          "base_uri": "https://localhost:8080/"
        },
        "id": "d4etxW8ft8Nq",
        "outputId": "6c4674e9-d70a-409a-f172-4f64d0a32301"
      },
      "execution_count": 3,
      "outputs": [
        {
          "output_type": "stream",
          "name": "stdout",
          "text": [
            "<class 'pandas.core.frame.DataFrame'>\n",
            "RangeIndex: 418 entries, 0 to 417\n",
            "Data columns (total 11 columns):\n",
            " #   Column       Non-Null Count  Dtype  \n",
            "---  ------       --------------  -----  \n",
            " 0   PassengerId  418 non-null    int64  \n",
            " 1   Pclass       418 non-null    int64  \n",
            " 2   Name         418 non-null    object \n",
            " 3   Sex          418 non-null    object \n",
            " 4   Age          332 non-null    float64\n",
            " 5   SibSp        418 non-null    int64  \n",
            " 6   Parch        418 non-null    int64  \n",
            " 7   Ticket       418 non-null    object \n",
            " 8   Fare         417 non-null    float64\n",
            " 9   Cabin        91 non-null     object \n",
            " 10  Embarked     418 non-null    object \n",
            "dtypes: float64(2), int64(4), object(5)\n",
            "memory usage: 36.0+ KB\n",
            "None \n",
            "\n",
            "<class 'pandas.core.frame.DataFrame'>\n",
            "RangeIndex: 891 entries, 0 to 890\n",
            "Data columns (total 12 columns):\n",
            " #   Column       Non-Null Count  Dtype  \n",
            "---  ------       --------------  -----  \n",
            " 0   PassengerId  891 non-null    int64  \n",
            " 1   Survived     891 non-null    int64  \n",
            " 2   Pclass       891 non-null    int64  \n",
            " 3   Name         891 non-null    object \n",
            " 4   Sex          891 non-null    object \n",
            " 5   Age          714 non-null    float64\n",
            " 6   SibSp        891 non-null    int64  \n",
            " 7   Parch        891 non-null    int64  \n",
            " 8   Ticket       891 non-null    object \n",
            " 9   Fare         891 non-null    float64\n",
            " 10  Cabin        204 non-null    object \n",
            " 11  Embarked     889 non-null    object \n",
            "dtypes: float64(2), int64(5), object(5)\n",
            "memory usage: 83.7+ KB\n",
            "None\n"
          ]
        }
      ]
    },
    {
      "cell_type": "markdown",
      "source": [
        "資料探勘與前處理"
      ],
      "metadata": {
        "id": "L1t3Dd75wUtJ"
      }
    },
    {
      "cell_type": "code",
      "source": [
        "total_data=pd.DataFrame()\n",
        "\n",
        "total_data = pd.concat([train_data, test_data], ignore_index=True)\n",
        "\n",
        "total_data.info()"
      ],
      "metadata": {
        "colab": {
          "base_uri": "https://localhost:8080/"
        },
        "id": "BArPxEWWwYdh",
        "outputId": "dc9fb7ee-1ec2-4da3-9708-8d8830d41690"
      },
      "execution_count": 4,
      "outputs": [
        {
          "output_type": "stream",
          "name": "stdout",
          "text": [
            "<class 'pandas.core.frame.DataFrame'>\n",
            "RangeIndex: 1309 entries, 0 to 1308\n",
            "Data columns (total 12 columns):\n",
            " #   Column       Non-Null Count  Dtype  \n",
            "---  ------       --------------  -----  \n",
            " 0   PassengerId  1309 non-null   int64  \n",
            " 1   Survived     891 non-null    float64\n",
            " 2   Pclass       1309 non-null   int64  \n",
            " 3   Name         1309 non-null   object \n",
            " 4   Sex          1309 non-null   object \n",
            " 5   Age          1046 non-null   float64\n",
            " 6   SibSp        1309 non-null   int64  \n",
            " 7   Parch        1309 non-null   int64  \n",
            " 8   Ticket       1309 non-null   object \n",
            " 9   Fare         1308 non-null   float64\n",
            " 10  Cabin        295 non-null    object \n",
            " 11  Embarked     1307 non-null   object \n",
            "dtypes: float64(3), int64(4), object(5)\n",
            "memory usage: 122.8+ KB\n"
          ]
        }
      ]
    },
    {
      "cell_type": "code",
      "source": [
        "# 刪除不需要的欄位並處理缺失值\n",
        "train_data = train_data.drop(['PassengerId', 'Name', 'Ticket', 'Cabin'], axis=1)\n",
        "train_data['Age'].fillna(train_data['Age'].median(), inplace=True)\n",
        "train_data['Embarked'].fillna(train_data['Embarked'].mode()[0], inplace=True)\n",
        "\n",
        "# 編碼類別變量\n",
        "label_enc = LabelEncoder()\n",
        "train_data['Sex'] = label_enc.fit_transform(train_data['Sex'])\n",
        "train_data['Embarked'] = label_enc.fit_transform(train_data['Embarked'])\n",
        "\n",
        "# 分割特徵與目標變量\n",
        "X = train_data.drop('Survived', axis=1)\n",
        "y = train_data['Survived']"
      ],
      "metadata": {
        "colab": {
          "base_uri": "https://localhost:8080/"
        },
        "id": "v8hutCZ8y2Tp",
        "outputId": "bf308907-2925-43bc-c7bd-f5922c83d962"
      },
      "execution_count": 5,
      "outputs": [
        {
          "output_type": "stream",
          "name": "stderr",
          "text": [
            "<ipython-input-5-43d32c30d04b>:3: FutureWarning: A value is trying to be set on a copy of a DataFrame or Series through chained assignment using an inplace method.\n",
            "The behavior will change in pandas 3.0. This inplace method will never work because the intermediate object on which we are setting values always behaves as a copy.\n",
            "\n",
            "For example, when doing 'df[col].method(value, inplace=True)', try using 'df.method({col: value}, inplace=True)' or df[col] = df[col].method(value) instead, to perform the operation inplace on the original object.\n",
            "\n",
            "\n",
            "  train_data['Age'].fillna(train_data['Age'].median(), inplace=True)\n",
            "<ipython-input-5-43d32c30d04b>:4: FutureWarning: A value is trying to be set on a copy of a DataFrame or Series through chained assignment using an inplace method.\n",
            "The behavior will change in pandas 3.0. This inplace method will never work because the intermediate object on which we are setting values always behaves as a copy.\n",
            "\n",
            "For example, when doing 'df[col].method(value, inplace=True)', try using 'df.method({col: value}, inplace=True)' or df[col] = df[col].method(value) instead, to perform the operation inplace on the original object.\n",
            "\n",
            "\n",
            "  train_data['Embarked'].fillna(train_data['Embarked'].mode()[0], inplace=True)\n"
          ]
        }
      ]
    },
    {
      "cell_type": "markdown",
      "source": [
        "step.3 修改程式碼使用RFE、SelectKBest、optuna選擇最佳特徵"
      ],
      "metadata": {
        "id": "eWH-DAXHzQ6p"
      }
    },
    {
      "cell_type": "markdown",
      "source": [
        "RFE 是一種特徵選擇的包裝方法，會遞迴地移除較不重要的特徵"
      ],
      "metadata": {
        "id": "X9kWjzi2z0bA"
      }
    },
    {
      "cell_type": "code",
      "source": [
        "from sklearn.feature_selection import RFE\n",
        "from sklearn.linear_model import LogisticRegression\n",
        "\n",
        "# 初始化模型和 RFE 選擇器\n",
        "model = LogisticRegression(max_iter=200)\n",
        "rfe_selector = RFE(model, n_features_to_select=5, step=1)\n",
        "rfe_selector.fit(X, y)\n",
        "\n",
        "# 獲取選擇的特徵\n",
        "selected_features_rfe = X.columns[rfe_selector.support_]\n",
        "print(\"RFE 選擇的特徵:\", selected_features_rfe)\n",
        "\n"
      ],
      "metadata": {
        "colab": {
          "base_uri": "https://localhost:8080/"
        },
        "id": "KyWUOApKzcnp",
        "outputId": "858c35b5-ce36-408d-9185-58511dc63652"
      },
      "execution_count": 6,
      "outputs": [
        {
          "output_type": "stream",
          "name": "stdout",
          "text": [
            "RFE 選擇的特徵: Index(['Pclass', 'Sex', 'SibSp', 'Parch', 'Embarked'], dtype='object')\n"
          ]
        }
      ]
    },
    {
      "cell_type": "markdown",
      "source": [
        "SelectKBest 是一種過濾方法，會根據指定的統計測試選擇特徵"
      ],
      "metadata": {
        "id": "683GRBDe0FyA"
      }
    },
    {
      "cell_type": "code",
      "source": [
        "from sklearn.feature_selection import SelectKBest, chi2\n",
        "\n",
        "# 使用 SelectKBest 選擇前 5 個特徵\n",
        "kbest_selector = SelectKBest(score_func=chi2, k=5)\n",
        "X_kbest = kbest_selector.fit_transform(X, y)\n",
        "selected_features_kbest = X.columns[kbest_selector.get_support()]\n",
        "print(\"SelectKBest 選擇的特徵:\", selected_features_kbest)\n"
      ],
      "metadata": {
        "colab": {
          "base_uri": "https://localhost:8080/"
        },
        "id": "nQw3YYHU0IHg",
        "outputId": "5e2550b4-8556-4c38-e557-0251f3a0be1c"
      },
      "execution_count": 7,
      "outputs": [
        {
          "output_type": "stream",
          "name": "stdout",
          "text": [
            "SelectKBest 選擇的特徵: Index(['Pclass', 'Sex', 'Age', 'Fare', 'Embarked'], dtype='object')\n"
          ]
        }
      ]
    },
    {
      "cell_type": "markdown",
      "source": [
        "Optuna 是一個優化庫，可以通過調整超參數來同時選擇最佳特徵。"
      ],
      "metadata": {
        "id": "ru-kI14x0Xhx"
      }
    },
    {
      "cell_type": "code",
      "source": [
        "!pip install optuna\n",
        "import optuna\n",
        "from sklearn.ensemble import RandomForestClassifier\n",
        "from sklearn.model_selection import cross_val_score\n",
        "\n",
        "def objective(trial):\n",
        "    selected_columns = []\n",
        "    for i in X.columns:\n",
        "        if trial.suggest_categorical(f\"use_{i}\", [True, False]):\n",
        "            selected_columns.append(i)\n",
        "\n",
        "    if len(selected_columns) == 0:\n",
        "        return 0.0  # 避免空特徵集\n",
        "\n",
        "    # 創建和評估模型\n",
        "    model = RandomForestClassifier()\n",
        "    X_selected = X[selected_columns]\n",
        "    score = cross_val_score(model, X_selected, y, cv=5, scoring=\"accuracy\").mean()\n",
        "    return score\n",
        "\n",
        "study = optuna.create_study(direction=\"maximize\")\n",
        "study.optimize(objective, n_trials=50)\n",
        "print(\"Optuna 選擇的最佳特徵:\", study.best_params)\n"
      ],
      "metadata": {
        "colab": {
          "base_uri": "https://localhost:8080/"
        },
        "id": "RNYxEXxF0Zjn",
        "outputId": "ff9bb93f-c46a-4bb2-cead-e6fc66ae9d87"
      },
      "execution_count": 8,
      "outputs": [
        {
          "output_type": "stream",
          "name": "stdout",
          "text": [
            "Collecting optuna\n",
            "  Downloading optuna-4.0.0-py3-none-any.whl.metadata (16 kB)\n",
            "Collecting alembic>=1.5.0 (from optuna)\n",
            "  Downloading alembic-1.13.3-py3-none-any.whl.metadata (7.4 kB)\n",
            "Collecting colorlog (from optuna)\n",
            "  Downloading colorlog-6.8.2-py3-none-any.whl.metadata (10 kB)\n",
            "Requirement already satisfied: numpy in /usr/local/lib/python3.10/dist-packages (from optuna) (1.26.4)\n",
            "Requirement already satisfied: packaging>=20.0 in /usr/local/lib/python3.10/dist-packages (from optuna) (24.1)\n",
            "Requirement already satisfied: sqlalchemy>=1.3.0 in /usr/local/lib/python3.10/dist-packages (from optuna) (2.0.36)\n",
            "Requirement already satisfied: tqdm in /usr/local/lib/python3.10/dist-packages (from optuna) (4.66.5)\n",
            "Requirement already satisfied: PyYAML in /usr/local/lib/python3.10/dist-packages (from optuna) (6.0.2)\n",
            "Collecting Mako (from alembic>=1.5.0->optuna)\n",
            "  Downloading Mako-1.3.6-py3-none-any.whl.metadata (2.9 kB)\n",
            "Requirement already satisfied: typing-extensions>=4 in /usr/local/lib/python3.10/dist-packages (from alembic>=1.5.0->optuna) (4.12.2)\n",
            "Requirement already satisfied: greenlet!=0.4.17 in /usr/local/lib/python3.10/dist-packages (from sqlalchemy>=1.3.0->optuna) (3.1.1)\n",
            "Requirement already satisfied: MarkupSafe>=0.9.2 in /usr/local/lib/python3.10/dist-packages (from Mako->alembic>=1.5.0->optuna) (3.0.2)\n",
            "Downloading optuna-4.0.0-py3-none-any.whl (362 kB)\n",
            "\u001b[2K   \u001b[90m━━━━━━━━━━━━━━━━━━━━━━━━━━━━━━━━━━━━━━━━\u001b[0m \u001b[32m362.8/362.8 kB\u001b[0m \u001b[31m14.0 MB/s\u001b[0m eta \u001b[36m0:00:00\u001b[0m\n",
            "\u001b[?25hDownloading alembic-1.13.3-py3-none-any.whl (233 kB)\n",
            "\u001b[2K   \u001b[90m━━━━━━━━━━━━━━━━━━━━━━━━━━━━━━━━━━━━━━━━\u001b[0m \u001b[32m233.2/233.2 kB\u001b[0m \u001b[31m22.0 MB/s\u001b[0m eta \u001b[36m0:00:00\u001b[0m\n",
            "\u001b[?25hDownloading colorlog-6.8.2-py3-none-any.whl (11 kB)\n",
            "Downloading Mako-1.3.6-py3-none-any.whl (78 kB)\n",
            "\u001b[2K   \u001b[90m━━━━━━━━━━━━━━━━━━━━━━━━━━━━━━━━━━━━━━━━\u001b[0m \u001b[32m78.6/78.6 kB\u001b[0m \u001b[31m8.4 MB/s\u001b[0m eta \u001b[36m0:00:00\u001b[0m\n",
            "\u001b[?25hInstalling collected packages: Mako, colorlog, alembic, optuna\n",
            "Successfully installed Mako-1.3.6 alembic-1.13.3 colorlog-6.8.2 optuna-4.0.0\n"
          ]
        },
        {
          "output_type": "stream",
          "name": "stderr",
          "text": [
            "[I 2024-10-29 03:51:31,556] A new study created in memory with name: no-name-7dfc6c1a-d4e5-415a-9011-892b524c9984\n",
            "[I 2024-10-29 03:51:34,390] Trial 0 finished with value: 0.6880610131190761 and parameters: {'use_Pclass': False, 'use_Sex': False, 'use_Age': False, 'use_SibSp': False, 'use_Parch': True, 'use_Fare': True, 'use_Embarked': False}. Best is trial 0 with value: 0.6880610131190761.\n",
            "[I 2024-10-29 03:51:37,642] Trial 1 finished with value: 0.6779047140794676 and parameters: {'use_Pclass': False, 'use_Sex': False, 'use_Age': True, 'use_SibSp': True, 'use_Parch': False, 'use_Fare': True, 'use_Embarked': False}. Best is trial 0 with value: 0.6880610131190761.\n",
            "[I 2024-10-29 03:51:41,354] Trial 2 finished with value: 0.8159939740129308 and parameters: {'use_Pclass': True, 'use_Sex': True, 'use_Age': True, 'use_SibSp': False, 'use_Parch': True, 'use_Fare': True, 'use_Embarked': False}. Best is trial 2 with value: 0.8159939740129308.\n",
            "[I 2024-10-29 03:51:45,186] Trial 3 finished with value: 0.6869374176134581 and parameters: {'use_Pclass': True, 'use_Sex': False, 'use_Age': False, 'use_SibSp': True, 'use_Parch': False, 'use_Fare': True, 'use_Embarked': True}. Best is trial 2 with value: 0.8159939740129308.\n",
            "[I 2024-10-29 03:51:49,534] Trial 4 finished with value: 0.8036595317305881 and parameters: {'use_Pclass': True, 'use_Sex': True, 'use_Age': False, 'use_SibSp': False, 'use_Parch': False, 'use_Fare': True, 'use_Embarked': False}. Best is trial 2 with value: 0.8159939740129308.\n",
            "[I 2024-10-29 03:51:52,697] Trial 5 finished with value: 0.8014248948590798 and parameters: {'use_Pclass': True, 'use_Sex': True, 'use_Age': False, 'use_SibSp': True, 'use_Parch': False, 'use_Fare': True, 'use_Embarked': True}. Best is trial 2 with value: 0.8159939740129308.\n",
            "[I 2024-10-29 03:51:54,506] Trial 6 finished with value: 0.6105392003012995 and parameters: {'use_Pclass': False, 'use_Sex': False, 'use_Age': True, 'use_SibSp': False, 'use_Parch': False, 'use_Fare': False, 'use_Embarked': False}. Best is trial 2 with value: 0.8159939740129308.\n",
            "[I 2024-10-29 03:51:56,107] Trial 7 finished with value: 0.6364258364195594 and parameters: {'use_Pclass': False, 'use_Sex': False, 'use_Age': False, 'use_SibSp': False, 'use_Parch': False, 'use_Fare': False, 'use_Embarked': True}. Best is trial 2 with value: 0.8159939740129308.\n",
            "[I 2024-10-29 03:51:57,979] Trial 8 finished with value: 0.7688155169167034 and parameters: {'use_Pclass': False, 'use_Sex': True, 'use_Age': True, 'use_SibSp': False, 'use_Parch': True, 'use_Fare': False, 'use_Embarked': True}. Best is trial 2 with value: 0.8159939740129308.\n",
            "[I 2024-10-29 03:51:59,267] Trial 9 finished with value: 0.6757265708367334 and parameters: {'use_Pclass': True, 'use_Sex': False, 'use_Age': False, 'use_SibSp': False, 'use_Parch': False, 'use_Fare': False, 'use_Embarked': True}. Best is trial 2 with value: 0.8159939740129308.\n",
            "[I 2024-10-29 03:52:00,949] Trial 10 finished with value: 0.8114995919904588 and parameters: {'use_Pclass': True, 'use_Sex': True, 'use_Age': True, 'use_SibSp': True, 'use_Parch': True, 'use_Fare': True, 'use_Embarked': False}. Best is trial 2 with value: 0.8159939740129308.\n",
            "[I 2024-10-29 03:52:01,895] Trial 11 finished with value: 0.8081288054736049 and parameters: {'use_Pclass': True, 'use_Sex': True, 'use_Age': True, 'use_SibSp': True, 'use_Parch': True, 'use_Fare': True, 'use_Embarked': False}. Best is trial 2 with value: 0.8159939740129308.\n",
            "[I 2024-10-29 03:52:02,831] Trial 12 finished with value: 0.8092398468394955 and parameters: {'use_Pclass': True, 'use_Sex': True, 'use_Age': True, 'use_SibSp': True, 'use_Parch': True, 'use_Fare': True, 'use_Embarked': False}. Best is trial 2 with value: 0.8159939740129308.\n",
            "[I 2024-10-29 03:52:03,669] Trial 13 finished with value: 0.8148389931579938 and parameters: {'use_Pclass': True, 'use_Sex': True, 'use_Age': True, 'use_SibSp': True, 'use_Parch': True, 'use_Fare': True, 'use_Embarked': False}. Best is trial 2 with value: 0.8159939740129308.\n",
            "[I 2024-10-29 03:52:04,496] Trial 14 finished with value: 0.8182286108844391 and parameters: {'use_Pclass': True, 'use_Sex': True, 'use_Age': True, 'use_SibSp': False, 'use_Parch': True, 'use_Fare': True, 'use_Embarked': False}. Best is trial 14 with value: 0.8182286108844391.\n",
            "[I 2024-10-29 03:52:05,340] Trial 15 finished with value: 0.8115247002699141 and parameters: {'use_Pclass': True, 'use_Sex': True, 'use_Age': True, 'use_SibSp': False, 'use_Parch': True, 'use_Fare': True, 'use_Embarked': False}. Best is trial 14 with value: 0.8182286108844391.\n",
            "[I 2024-10-29 03:52:06,191] Trial 16 finished with value: 0.8148578243675851 and parameters: {'use_Pclass': True, 'use_Sex': True, 'use_Age': True, 'use_SibSp': False, 'use_Parch': True, 'use_Fare': True, 'use_Embarked': False}. Best is trial 14 with value: 0.8182286108844391.\n",
            "[I 2024-10-29 03:52:07,022] Trial 17 finished with value: 0.8148766555771765 and parameters: {'use_Pclass': True, 'use_Sex': True, 'use_Age': True, 'use_SibSp': False, 'use_Parch': True, 'use_Fare': True, 'use_Embarked': False}. Best is trial 14 with value: 0.8182286108844391.\n",
            "[I 2024-10-29 03:52:07,806] Trial 18 finished with value: 0.8024731655263322 and parameters: {'use_Pclass': True, 'use_Sex': True, 'use_Age': True, 'use_SibSp': False, 'use_Parch': True, 'use_Fare': False, 'use_Embarked': False}. Best is trial 14 with value: 0.8182286108844391.\n",
            "[I 2024-10-29 03:52:08,669] Trial 19 finished with value: 0.8160002510827946 and parameters: {'use_Pclass': True, 'use_Sex': True, 'use_Age': True, 'use_SibSp': False, 'use_Parch': True, 'use_Fare': True, 'use_Embarked': False}. Best is trial 14 with value: 0.8182286108844391.\n",
            "[I 2024-10-29 03:52:09,515] Trial 20 finished with value: 0.8148766555771767 and parameters: {'use_Pclass': True, 'use_Sex': True, 'use_Age': True, 'use_SibSp': False, 'use_Parch': True, 'use_Fare': True, 'use_Embarked': False}. Best is trial 14 with value: 0.8182286108844391.\n",
            "[I 2024-10-29 03:52:10,363] Trial 21 finished with value: 0.8171175695185487 and parameters: {'use_Pclass': True, 'use_Sex': True, 'use_Age': True, 'use_SibSp': False, 'use_Parch': True, 'use_Fare': True, 'use_Embarked': False}. Best is trial 14 with value: 0.8182286108844391.\n",
            "[I 2024-10-29 03:52:11,332] Trial 22 finished with value: 0.8148766555771767 and parameters: {'use_Pclass': True, 'use_Sex': True, 'use_Age': True, 'use_SibSp': False, 'use_Parch': True, 'use_Fare': True, 'use_Embarked': False}. Best is trial 14 with value: 0.8182286108844391.\n",
            "[I 2024-10-29 03:52:12,674] Trial 23 finished with value: 0.8114995919904588 and parameters: {'use_Pclass': True, 'use_Sex': True, 'use_Age': True, 'use_SibSp': False, 'use_Parch': True, 'use_Fare': True, 'use_Embarked': False}. Best is trial 14 with value: 0.8182286108844391.\n",
            "[I 2024-10-29 03:52:13,990] Trial 24 finished with value: 0.8114995919904588 and parameters: {'use_Pclass': True, 'use_Sex': True, 'use_Age': True, 'use_SibSp': False, 'use_Parch': True, 'use_Fare': True, 'use_Embarked': False}. Best is trial 14 with value: 0.8182286108844391.\n",
            "[I 2024-10-29 03:52:14,827] Trial 25 finished with value: 0.805881614462369 and parameters: {'use_Pclass': True, 'use_Sex': True, 'use_Age': True, 'use_SibSp': False, 'use_Parch': True, 'use_Fare': True, 'use_Embarked': False}. Best is trial 14 with value: 0.8182286108844391.\n",
            "[I 2024-10-29 03:52:15,688] Trial 26 finished with value: 0.8070114870378507 and parameters: {'use_Pclass': True, 'use_Sex': True, 'use_Age': True, 'use_SibSp': False, 'use_Parch': True, 'use_Fare': True, 'use_Embarked': True}. Best is trial 14 with value: 0.8182286108844391.\n",
            "[I 2024-10-29 03:52:16,475] Trial 27 finished with value: 0.7766806854560292 and parameters: {'use_Pclass': False, 'use_Sex': True, 'use_Age': True, 'use_SibSp': False, 'use_Parch': True, 'use_Fare': False, 'use_Embarked': False}. Best is trial 14 with value: 0.8182286108844391.\n",
            "[I 2024-10-29 03:52:17,324] Trial 28 finished with value: 0.8148578243675851 and parameters: {'use_Pclass': True, 'use_Sex': True, 'use_Age': True, 'use_SibSp': False, 'use_Parch': True, 'use_Fare': True, 'use_Embarked': False}. Best is trial 14 with value: 0.8182286108844391.\n",
            "[I 2024-10-29 03:52:18,125] Trial 29 finished with value: 0.6880547360492122 and parameters: {'use_Pclass': False, 'use_Sex': False, 'use_Age': False, 'use_SibSp': False, 'use_Parch': True, 'use_Fare': True, 'use_Embarked': False}. Best is trial 14 with value: 0.8182286108844391.\n",
            "[I 2024-10-29 03:52:18,989] Trial 30 finished with value: 0.8137530600715586 and parameters: {'use_Pclass': True, 'use_Sex': True, 'use_Age': True, 'use_SibSp': False, 'use_Parch': True, 'use_Fare': True, 'use_Embarked': False}. Best is trial 14 with value: 0.8182286108844391.\n",
            "[I 2024-10-29 03:52:19,860] Trial 31 finished with value: 0.8126294645659407 and parameters: {'use_Pclass': True, 'use_Sex': True, 'use_Age': True, 'use_SibSp': False, 'use_Parch': True, 'use_Fare': True, 'use_Embarked': False}. Best is trial 14 with value: 0.8182286108844391.\n",
            "[I 2024-10-29 03:52:20,728] Trial 32 finished with value: 0.8148578243675851 and parameters: {'use_Pclass': True, 'use_Sex': True, 'use_Age': True, 'use_SibSp': False, 'use_Parch': True, 'use_Fare': True, 'use_Embarked': False}. Best is trial 14 with value: 0.8182286108844391.\n",
            "[I 2024-10-29 03:52:21,615] Trial 33 finished with value: 0.818234887954303 and parameters: {'use_Pclass': True, 'use_Sex': True, 'use_Age': True, 'use_SibSp': False, 'use_Parch': True, 'use_Fare': True, 'use_Embarked': False}. Best is trial 33 with value: 0.818234887954303.\n",
            "[I 2024-10-29 03:52:22,540] Trial 34 finished with value: 0.6779109911493314 and parameters: {'use_Pclass': True, 'use_Sex': False, 'use_Age': True, 'use_SibSp': False, 'use_Parch': True, 'use_Fare': True, 'use_Embarked': False}. Best is trial 33 with value: 0.818234887954303.\n",
            "[I 2024-10-29 03:52:23,405] Trial 35 finished with value: 0.810369719414977 and parameters: {'use_Pclass': True, 'use_Sex': True, 'use_Age': True, 'use_SibSp': False, 'use_Parch': True, 'use_Fare': True, 'use_Embarked': False}. Best is trial 33 with value: 0.818234887954303.\n",
            "[I 2024-10-29 03:52:24,359] Trial 36 finished with value: 0.7913188123783818 and parameters: {'use_Pclass': False, 'use_Sex': True, 'use_Age': False, 'use_SibSp': False, 'use_Parch': False, 'use_Fare': True, 'use_Embarked': False}. Best is trial 33 with value: 0.818234887954303.\n",
            "[I 2024-10-29 03:52:25,741] Trial 37 finished with value: 0.8103508882053857 and parameters: {'use_Pclass': True, 'use_Sex': True, 'use_Age': True, 'use_SibSp': True, 'use_Parch': True, 'use_Fare': True, 'use_Embarked': True}. Best is trial 33 with value: 0.818234887954303.\n",
            "[I 2024-10-29 03:52:27,007] Trial 38 finished with value: 0.6902893729207207 and parameters: {'use_Pclass': True, 'use_Sex': False, 'use_Age': False, 'use_SibSp': False, 'use_Parch': False, 'use_Fare': True, 'use_Embarked': False}. Best is trial 33 with value: 0.818234887954303.\n",
            "[I 2024-10-29 03:52:27,795] Trial 39 finished with value: 0.7733036218693113 and parameters: {'use_Pclass': False, 'use_Sex': True, 'use_Age': True, 'use_SibSp': False, 'use_Parch': True, 'use_Fare': False, 'use_Embarked': True}. Best is trial 33 with value: 0.818234887954303.\n",
            "[I 2024-10-29 03:52:28,632] Trial 40 finished with value: 0.670064653819597 and parameters: {'use_Pclass': True, 'use_Sex': False, 'use_Age': True, 'use_SibSp': False, 'use_Parch': False, 'use_Fare': True, 'use_Embarked': False}. Best is trial 33 with value: 0.818234887954303.\n",
            "[I 2024-10-29 03:52:29,472] Trial 41 finished with value: 0.8126357416358043 and parameters: {'use_Pclass': True, 'use_Sex': True, 'use_Age': True, 'use_SibSp': False, 'use_Parch': True, 'use_Fare': True, 'use_Embarked': False}. Best is trial 33 with value: 0.818234887954303.\n",
            "[I 2024-10-29 03:52:30,339] Trial 42 finished with value: 0.8114995919904588 and parameters: {'use_Pclass': True, 'use_Sex': True, 'use_Age': True, 'use_SibSp': False, 'use_Parch': True, 'use_Fare': True, 'use_Embarked': False}. Best is trial 33 with value: 0.818234887954303.\n",
            "[I 2024-10-29 03:52:31,151] Trial 43 finished with value: 0.8025296591551063 and parameters: {'use_Pclass': True, 'use_Sex': True, 'use_Age': False, 'use_SibSp': False, 'use_Parch': True, 'use_Fare': True, 'use_Embarked': False}. Best is trial 33 with value: 0.818234887954303.\n",
            "[I 2024-10-29 03:52:31,922] Trial 44 finished with value: 0.8013935095097608 and parameters: {'use_Pclass': True, 'use_Sex': True, 'use_Age': True, 'use_SibSp': True, 'use_Parch': True, 'use_Fare': False, 'use_Embarked': True}. Best is trial 33 with value: 0.818234887954303.\n",
            "[I 2024-10-29 03:52:32,768] Trial 45 finished with value: 0.8125980792166217 and parameters: {'use_Pclass': True, 'use_Sex': True, 'use_Age': True, 'use_SibSp': False, 'use_Parch': False, 'use_Fare': True, 'use_Embarked': False}. Best is trial 33 with value: 0.818234887954303.\n",
            "[I 2024-10-29 03:52:33,595] Trial 46 finished with value: 0.8081099742640134 and parameters: {'use_Pclass': False, 'use_Sex': True, 'use_Age': True, 'use_SibSp': True, 'use_Parch': True, 'use_Fare': True, 'use_Embarked': False}. Best is trial 33 with value: 0.818234887954303.\n",
            "[I 2024-10-29 03:52:34,481] Trial 47 finished with value: 0.6644341221517795 and parameters: {'use_Pclass': True, 'use_Sex': False, 'use_Age': True, 'use_SibSp': False, 'use_Parch': True, 'use_Fare': True, 'use_Embarked': False}. Best is trial 33 with value: 0.818234887954303.\n",
            "[I 2024-10-29 03:52:35,181] Trial 48 finished with value: 0.8002322515849603 and parameters: {'use_Pclass': True, 'use_Sex': True, 'use_Age': False, 'use_SibSp': False, 'use_Parch': True, 'use_Fare': False, 'use_Embarked': False}. Best is trial 33 with value: 0.818234887954303.\n",
            "[I 2024-10-29 03:52:36,062] Trial 49 finished with value: 0.8092524009792228 and parameters: {'use_Pclass': True, 'use_Sex': True, 'use_Age': True, 'use_SibSp': False, 'use_Parch': True, 'use_Fare': True, 'use_Embarked': True}. Best is trial 33 with value: 0.818234887954303.\n"
          ]
        },
        {
          "output_type": "stream",
          "name": "stdout",
          "text": [
            "Optuna 選擇的最佳特徵: {'use_Pclass': True, 'use_Sex': True, 'use_Age': True, 'use_SibSp': False, 'use_Parch': True, 'use_Fare': True, 'use_Embarked': False}\n"
          ]
        }
      ]
    },
    {
      "cell_type": "markdown",
      "source": [
        "step.4 混淆矩陣。準確性"
      ],
      "metadata": {
        "id": "SPs_Rgje0_rT"
      }
    },
    {
      "cell_type": "code",
      "source": [
        "from sklearn.ensemble import RandomForestClassifier\n",
        "from sklearn.metrics import confusion_matrix, accuracy_score\n",
        "from sklearn.model_selection import train_test_split\n",
        "\n",
        "# 將數據分為訓練集和測試集\n",
        "X_train, X_test, y_train, y_test = train_test_split(X[selected_features_rfe], y, test_size=0.2, random_state=42)\n",
        "\n",
        "# 訓練模型\n",
        "model = RandomForestClassifier()\n",
        "model.fit(X_train, y_train)\n",
        "\n",
        "# 預測\n",
        "y_pred = model.predict(X_test)\n",
        "\n",
        "# 混淆矩陣與準確性\n",
        "conf_matrix = confusion_matrix(y_test, y_pred)\n",
        "accuracy = accuracy_score(y_test, y_pred)\n",
        "\n",
        "\n",
        "\n",
        "print(\"混淆矩陣:\\n\", conf_matrix)\n",
        "print(\"準確性:\", accuracy)\n"
      ],
      "metadata": {
        "colab": {
          "base_uri": "https://localhost:8080/"
        },
        "id": "2F4UfDg21Jb3",
        "outputId": "06f2b6ad-9bea-4aab-a78c-da1030960e6b"
      },
      "execution_count": 9,
      "outputs": [
        {
          "output_type": "stream",
          "name": "stdout",
          "text": [
            "混淆矩陣:\n",
            " [[94 11]\n",
            " [26 48]]\n",
            "準確性: 0.7932960893854749\n"
          ]
        }
      ]
    },
    {
      "cell_type": "code",
      "source": [
        "# 移除不需要的欄位 (e.g., 'index' 和 Column 1) 確保只保留 'PassengerId' 和 'Survived'\n",
        "output = output[['PassengerId', 'Survived']]\n",
        "\n",
        "# 將結果儲存為 CSV 檔案，並確認沒有索引欄位\n",
        "output.to_csv('submission.csv', index=False)\n",
        "output\n"
      ],
      "metadata": {
        "colab": {
          "base_uri": "https://localhost:8080/",
          "height": 423
        },
        "id": "vn9DKQAPS7qO",
        "outputId": "75361b5f-35ba-42c3-a673-14320dfda19c"
      },
      "execution_count": 21,
      "outputs": [
        {
          "output_type": "execute_result",
          "data": {
            "text/plain": [
              "     PassengerId  Survived\n",
              "0            892         0\n",
              "1            893         0\n",
              "2            894         0\n",
              "3            895         0\n",
              "4            896         0\n",
              "..           ...       ...\n",
              "413         1305         0\n",
              "414         1306         0\n",
              "415         1307         0\n",
              "416         1308         1\n",
              "417         1309         1\n",
              "\n",
              "[418 rows x 2 columns]"
            ],
            "text/html": [
              "\n",
              "  <div id=\"df-b877d7dd-0d91-42bd-9d0e-16825fbec06e\" class=\"colab-df-container\">\n",
              "    <div>\n",
              "<style scoped>\n",
              "    .dataframe tbody tr th:only-of-type {\n",
              "        vertical-align: middle;\n",
              "    }\n",
              "\n",
              "    .dataframe tbody tr th {\n",
              "        vertical-align: top;\n",
              "    }\n",
              "\n",
              "    .dataframe thead th {\n",
              "        text-align: right;\n",
              "    }\n",
              "</style>\n",
              "<table border=\"1\" class=\"dataframe\">\n",
              "  <thead>\n",
              "    <tr style=\"text-align: right;\">\n",
              "      <th></th>\n",
              "      <th>PassengerId</th>\n",
              "      <th>Survived</th>\n",
              "    </tr>\n",
              "  </thead>\n",
              "  <tbody>\n",
              "    <tr>\n",
              "      <th>0</th>\n",
              "      <td>892</td>\n",
              "      <td>0</td>\n",
              "    </tr>\n",
              "    <tr>\n",
              "      <th>1</th>\n",
              "      <td>893</td>\n",
              "      <td>0</td>\n",
              "    </tr>\n",
              "    <tr>\n",
              "      <th>2</th>\n",
              "      <td>894</td>\n",
              "      <td>0</td>\n",
              "    </tr>\n",
              "    <tr>\n",
              "      <th>3</th>\n",
              "      <td>895</td>\n",
              "      <td>0</td>\n",
              "    </tr>\n",
              "    <tr>\n",
              "      <th>4</th>\n",
              "      <td>896</td>\n",
              "      <td>0</td>\n",
              "    </tr>\n",
              "    <tr>\n",
              "      <th>...</th>\n",
              "      <td>...</td>\n",
              "      <td>...</td>\n",
              "    </tr>\n",
              "    <tr>\n",
              "      <th>413</th>\n",
              "      <td>1305</td>\n",
              "      <td>0</td>\n",
              "    </tr>\n",
              "    <tr>\n",
              "      <th>414</th>\n",
              "      <td>1306</td>\n",
              "      <td>0</td>\n",
              "    </tr>\n",
              "    <tr>\n",
              "      <th>415</th>\n",
              "      <td>1307</td>\n",
              "      <td>0</td>\n",
              "    </tr>\n",
              "    <tr>\n",
              "      <th>416</th>\n",
              "      <td>1308</td>\n",
              "      <td>1</td>\n",
              "    </tr>\n",
              "    <tr>\n",
              "      <th>417</th>\n",
              "      <td>1309</td>\n",
              "      <td>1</td>\n",
              "    </tr>\n",
              "  </tbody>\n",
              "</table>\n",
              "<p>418 rows × 2 columns</p>\n",
              "</div>\n",
              "    <div class=\"colab-df-buttons\">\n",
              "\n",
              "  <div class=\"colab-df-container\">\n",
              "    <button class=\"colab-df-convert\" onclick=\"convertToInteractive('df-b877d7dd-0d91-42bd-9d0e-16825fbec06e')\"\n",
              "            title=\"Convert this dataframe to an interactive table.\"\n",
              "            style=\"display:none;\">\n",
              "\n",
              "  <svg xmlns=\"http://www.w3.org/2000/svg\" height=\"24px\" viewBox=\"0 -960 960 960\">\n",
              "    <path d=\"M120-120v-720h720v720H120Zm60-500h600v-160H180v160Zm220 220h160v-160H400v160Zm0 220h160v-160H400v160ZM180-400h160v-160H180v160Zm440 0h160v-160H620v160ZM180-180h160v-160H180v160Zm440 0h160v-160H620v160Z\"/>\n",
              "  </svg>\n",
              "    </button>\n",
              "\n",
              "  <style>\n",
              "    .colab-df-container {\n",
              "      display:flex;\n",
              "      gap: 12px;\n",
              "    }\n",
              "\n",
              "    .colab-df-convert {\n",
              "      background-color: #E8F0FE;\n",
              "      border: none;\n",
              "      border-radius: 50%;\n",
              "      cursor: pointer;\n",
              "      display: none;\n",
              "      fill: #1967D2;\n",
              "      height: 32px;\n",
              "      padding: 0 0 0 0;\n",
              "      width: 32px;\n",
              "    }\n",
              "\n",
              "    .colab-df-convert:hover {\n",
              "      background-color: #E2EBFA;\n",
              "      box-shadow: 0px 1px 2px rgba(60, 64, 67, 0.3), 0px 1px 3px 1px rgba(60, 64, 67, 0.15);\n",
              "      fill: #174EA6;\n",
              "    }\n",
              "\n",
              "    .colab-df-buttons div {\n",
              "      margin-bottom: 4px;\n",
              "    }\n",
              "\n",
              "    [theme=dark] .colab-df-convert {\n",
              "      background-color: #3B4455;\n",
              "      fill: #D2E3FC;\n",
              "    }\n",
              "\n",
              "    [theme=dark] .colab-df-convert:hover {\n",
              "      background-color: #434B5C;\n",
              "      box-shadow: 0px 1px 3px 1px rgba(0, 0, 0, 0.15);\n",
              "      filter: drop-shadow(0px 1px 2px rgba(0, 0, 0, 0.3));\n",
              "      fill: #FFFFFF;\n",
              "    }\n",
              "  </style>\n",
              "\n",
              "    <script>\n",
              "      const buttonEl =\n",
              "        document.querySelector('#df-b877d7dd-0d91-42bd-9d0e-16825fbec06e button.colab-df-convert');\n",
              "      buttonEl.style.display =\n",
              "        google.colab.kernel.accessAllowed ? 'block' : 'none';\n",
              "\n",
              "      async function convertToInteractive(key) {\n",
              "        const element = document.querySelector('#df-b877d7dd-0d91-42bd-9d0e-16825fbec06e');\n",
              "        const dataTable =\n",
              "          await google.colab.kernel.invokeFunction('convertToInteractive',\n",
              "                                                    [key], {});\n",
              "        if (!dataTable) return;\n",
              "\n",
              "        const docLinkHtml = 'Like what you see? Visit the ' +\n",
              "          '<a target=\"_blank\" href=https://colab.research.google.com/notebooks/data_table.ipynb>data table notebook</a>'\n",
              "          + ' to learn more about interactive tables.';\n",
              "        element.innerHTML = '';\n",
              "        dataTable['output_type'] = 'display_data';\n",
              "        await google.colab.output.renderOutput(dataTable, element);\n",
              "        const docLink = document.createElement('div');\n",
              "        docLink.innerHTML = docLinkHtml;\n",
              "        element.appendChild(docLink);\n",
              "      }\n",
              "    </script>\n",
              "  </div>\n",
              "\n",
              "\n",
              "<div id=\"df-35109b15-67d5-451a-aac1-1ac100c74e9a\">\n",
              "  <button class=\"colab-df-quickchart\" onclick=\"quickchart('df-35109b15-67d5-451a-aac1-1ac100c74e9a')\"\n",
              "            title=\"Suggest charts\"\n",
              "            style=\"display:none;\">\n",
              "\n",
              "<svg xmlns=\"http://www.w3.org/2000/svg\" height=\"24px\"viewBox=\"0 0 24 24\"\n",
              "     width=\"24px\">\n",
              "    <g>\n",
              "        <path d=\"M19 3H5c-1.1 0-2 .9-2 2v14c0 1.1.9 2 2 2h14c1.1 0 2-.9 2-2V5c0-1.1-.9-2-2-2zM9 17H7v-7h2v7zm4 0h-2V7h2v10zm4 0h-2v-4h2v4z\"/>\n",
              "    </g>\n",
              "</svg>\n",
              "  </button>\n",
              "\n",
              "<style>\n",
              "  .colab-df-quickchart {\n",
              "      --bg-color: #E8F0FE;\n",
              "      --fill-color: #1967D2;\n",
              "      --hover-bg-color: #E2EBFA;\n",
              "      --hover-fill-color: #174EA6;\n",
              "      --disabled-fill-color: #AAA;\n",
              "      --disabled-bg-color: #DDD;\n",
              "  }\n",
              "\n",
              "  [theme=dark] .colab-df-quickchart {\n",
              "      --bg-color: #3B4455;\n",
              "      --fill-color: #D2E3FC;\n",
              "      --hover-bg-color: #434B5C;\n",
              "      --hover-fill-color: #FFFFFF;\n",
              "      --disabled-bg-color: #3B4455;\n",
              "      --disabled-fill-color: #666;\n",
              "  }\n",
              "\n",
              "  .colab-df-quickchart {\n",
              "    background-color: var(--bg-color);\n",
              "    border: none;\n",
              "    border-radius: 50%;\n",
              "    cursor: pointer;\n",
              "    display: none;\n",
              "    fill: var(--fill-color);\n",
              "    height: 32px;\n",
              "    padding: 0;\n",
              "    width: 32px;\n",
              "  }\n",
              "\n",
              "  .colab-df-quickchart:hover {\n",
              "    background-color: var(--hover-bg-color);\n",
              "    box-shadow: 0 1px 2px rgba(60, 64, 67, 0.3), 0 1px 3px 1px rgba(60, 64, 67, 0.15);\n",
              "    fill: var(--button-hover-fill-color);\n",
              "  }\n",
              "\n",
              "  .colab-df-quickchart-complete:disabled,\n",
              "  .colab-df-quickchart-complete:disabled:hover {\n",
              "    background-color: var(--disabled-bg-color);\n",
              "    fill: var(--disabled-fill-color);\n",
              "    box-shadow: none;\n",
              "  }\n",
              "\n",
              "  .colab-df-spinner {\n",
              "    border: 2px solid var(--fill-color);\n",
              "    border-color: transparent;\n",
              "    border-bottom-color: var(--fill-color);\n",
              "    animation:\n",
              "      spin 1s steps(1) infinite;\n",
              "  }\n",
              "\n",
              "  @keyframes spin {\n",
              "    0% {\n",
              "      border-color: transparent;\n",
              "      border-bottom-color: var(--fill-color);\n",
              "      border-left-color: var(--fill-color);\n",
              "    }\n",
              "    20% {\n",
              "      border-color: transparent;\n",
              "      border-left-color: var(--fill-color);\n",
              "      border-top-color: var(--fill-color);\n",
              "    }\n",
              "    30% {\n",
              "      border-color: transparent;\n",
              "      border-left-color: var(--fill-color);\n",
              "      border-top-color: var(--fill-color);\n",
              "      border-right-color: var(--fill-color);\n",
              "    }\n",
              "    40% {\n",
              "      border-color: transparent;\n",
              "      border-right-color: var(--fill-color);\n",
              "      border-top-color: var(--fill-color);\n",
              "    }\n",
              "    60% {\n",
              "      border-color: transparent;\n",
              "      border-right-color: var(--fill-color);\n",
              "    }\n",
              "    80% {\n",
              "      border-color: transparent;\n",
              "      border-right-color: var(--fill-color);\n",
              "      border-bottom-color: var(--fill-color);\n",
              "    }\n",
              "    90% {\n",
              "      border-color: transparent;\n",
              "      border-bottom-color: var(--fill-color);\n",
              "    }\n",
              "  }\n",
              "</style>\n",
              "\n",
              "  <script>\n",
              "    async function quickchart(key) {\n",
              "      const quickchartButtonEl =\n",
              "        document.querySelector('#' + key + ' button');\n",
              "      quickchartButtonEl.disabled = true;  // To prevent multiple clicks.\n",
              "      quickchartButtonEl.classList.add('colab-df-spinner');\n",
              "      try {\n",
              "        const charts = await google.colab.kernel.invokeFunction(\n",
              "            'suggestCharts', [key], {});\n",
              "      } catch (error) {\n",
              "        console.error('Error during call to suggestCharts:', error);\n",
              "      }\n",
              "      quickchartButtonEl.classList.remove('colab-df-spinner');\n",
              "      quickchartButtonEl.classList.add('colab-df-quickchart-complete');\n",
              "    }\n",
              "    (() => {\n",
              "      let quickchartButtonEl =\n",
              "        document.querySelector('#df-35109b15-67d5-451a-aac1-1ac100c74e9a button');\n",
              "      quickchartButtonEl.style.display =\n",
              "        google.colab.kernel.accessAllowed ? 'block' : 'none';\n",
              "    })();\n",
              "  </script>\n",
              "</div>\n",
              "\n",
              "  <div id=\"id_1b1b446d-3fa0-4028-a589-578ce83c96d6\">\n",
              "    <style>\n",
              "      .colab-df-generate {\n",
              "        background-color: #E8F0FE;\n",
              "        border: none;\n",
              "        border-radius: 50%;\n",
              "        cursor: pointer;\n",
              "        display: none;\n",
              "        fill: #1967D2;\n",
              "        height: 32px;\n",
              "        padding: 0 0 0 0;\n",
              "        width: 32px;\n",
              "      }\n",
              "\n",
              "      .colab-df-generate:hover {\n",
              "        background-color: #E2EBFA;\n",
              "        box-shadow: 0px 1px 2px rgba(60, 64, 67, 0.3), 0px 1px 3px 1px rgba(60, 64, 67, 0.15);\n",
              "        fill: #174EA6;\n",
              "      }\n",
              "\n",
              "      [theme=dark] .colab-df-generate {\n",
              "        background-color: #3B4455;\n",
              "        fill: #D2E3FC;\n",
              "      }\n",
              "\n",
              "      [theme=dark] .colab-df-generate:hover {\n",
              "        background-color: #434B5C;\n",
              "        box-shadow: 0px 1px 3px 1px rgba(0, 0, 0, 0.15);\n",
              "        filter: drop-shadow(0px 1px 2px rgba(0, 0, 0, 0.3));\n",
              "        fill: #FFFFFF;\n",
              "      }\n",
              "    </style>\n",
              "    <button class=\"colab-df-generate\" onclick=\"generateWithVariable('output')\"\n",
              "            title=\"Generate code using this dataframe.\"\n",
              "            style=\"display:none;\">\n",
              "\n",
              "  <svg xmlns=\"http://www.w3.org/2000/svg\" height=\"24px\"viewBox=\"0 0 24 24\"\n",
              "       width=\"24px\">\n",
              "    <path d=\"M7,19H8.4L18.45,9,17,7.55,7,17.6ZM5,21V16.75L18.45,3.32a2,2,0,0,1,2.83,0l1.4,1.43a1.91,1.91,0,0,1,.58,1.4,1.91,1.91,0,0,1-.58,1.4L9.25,21ZM18.45,9,17,7.55Zm-12,3A5.31,5.31,0,0,0,4.9,8.1,5.31,5.31,0,0,0,1,6.5,5.31,5.31,0,0,0,4.9,4.9,5.31,5.31,0,0,0,6.5,1,5.31,5.31,0,0,0,8.1,4.9,5.31,5.31,0,0,0,12,6.5,5.46,5.46,0,0,0,6.5,12Z\"/>\n",
              "  </svg>\n",
              "    </button>\n",
              "    <script>\n",
              "      (() => {\n",
              "      const buttonEl =\n",
              "        document.querySelector('#id_1b1b446d-3fa0-4028-a589-578ce83c96d6 button.colab-df-generate');\n",
              "      buttonEl.style.display =\n",
              "        google.colab.kernel.accessAllowed ? 'block' : 'none';\n",
              "\n",
              "      buttonEl.onclick = () => {\n",
              "        google.colab.notebook.generateWithVariable('output');\n",
              "      }\n",
              "      })();\n",
              "    </script>\n",
              "  </div>\n",
              "\n",
              "    </div>\n",
              "  </div>\n"
            ],
            "application/vnd.google.colaboratory.intrinsic+json": {
              "type": "dataframe",
              "variable_name": "output",
              "summary": "{\n  \"name\": \"output\",\n  \"rows\": 418,\n  \"fields\": [\n    {\n      \"column\": \"PassengerId\",\n      \"properties\": {\n        \"dtype\": \"number\",\n        \"std\": 120,\n        \"min\": 892,\n        \"max\": 1309,\n        \"num_unique_values\": 418,\n        \"samples\": [\n          1213,\n          1216,\n          1280\n        ],\n        \"semantic_type\": \"\",\n        \"description\": \"\"\n      }\n    },\n    {\n      \"column\": \"Survived\",\n      \"properties\": {\n        \"dtype\": \"number\",\n        \"std\": 0,\n        \"min\": 0,\n        \"max\": 1,\n        \"num_unique_values\": 2,\n        \"samples\": [\n          1,\n          0\n        ],\n        \"semantic_type\": \"\",\n        \"description\": \"\"\n      }\n    }\n  ]\n}"
            }
          },
          "metadata": {},
          "execution_count": 21
        }
      ]
    },
    {
      "cell_type": "code",
      "source": [],
      "metadata": {
        "id": "0hZv1PMuXGZz"
      },
      "execution_count": 10,
      "outputs": []
    }
  ]
}