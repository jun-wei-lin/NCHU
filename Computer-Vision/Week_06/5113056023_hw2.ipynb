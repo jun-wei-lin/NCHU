{
  "nbformat": 4,
  "nbformat_minor": 0,
  "metadata": {
    "colab": {
      "provenance": [],
      "gpuType": "T4"
    },
    "kernelspec": {
      "name": "python3",
      "display_name": "Python 3"
    },
    "language_info": {
      "name": "python"
    },
    "accelerator": "GPU"
  },
  "cells": [
    {
      "cell_type": "markdown",
      "source": [
        "# Homework2:模型優化"
      ],
      "metadata": {
        "id": "LGJszyrPdZsu"
      }
    },
    {
      "cell_type": "markdown",
      "source": [
        "說明:以下是一個簡易的使用cnn進行CIFAR-10資料集的實作\n",
        "\n",
        "* 請基於以下的code完成作業，epoch最多可以調整到15，**若超過扣50分**\n",
        "* 此作業專注在課堂上提到的優化技巧，請在不調整epoch以外的原本超參數設定的情況下(刪減卷積層數量、神經元數量、batch size等等)完成模型的優化,**若調整扣50分**\n",
        "* 請使用Data Augmentation、L1 or L2 Regularization、Dropout和Batch Normalization、EarlyStopping的方法來完成\n",
        "* 可以自行調整L1 or L2 Regularization、Dropout和Batch Normalization的參數\n",
        "* 請不要刪除文字說明,**違者-10分**\n",
        "* 若同學的實作方法跟我們提供的順序不一樣的話，請詳細說明在哪個區塊實作，以避免扣分\n",
        "* 請同學善用markdown或是註解來標示出自己的實作方法，以利批改"
      ],
      "metadata": {
        "id": "QOufeB2Idld6"
      }
    },
    {
      "cell_type": "code",
      "execution_count": 79,
      "metadata": {
        "id": "rwniaxFz5klb"
      },
      "outputs": [],
      "source": [
        "import torch\n",
        "import torch.nn as nn\n",
        "import numpy as np\n",
        "import random\n",
        "import torch.optim as optim\n",
        "import torch.nn.functional as F\n",
        "import torchvision\n",
        "import torchvision.transforms as transforms\n",
        "from torch.utils.data import DataLoader\n",
        "import matplotlib.pyplot as plt"
      ]
    },
    {
      "cell_type": "code",
      "source": [
        "device = torch.device('cuda' if torch.cuda.is_available() else 'cpu')\n"
      ],
      "metadata": {
        "id": "LwiB8DbM6mC4"
      },
      "execution_count": 80,
      "outputs": []
    },
    {
      "cell_type": "code",
      "source": [
        "# 使用隨機種子\n",
        "def set_random_seed(seed):\n",
        "    random.seed(seed)\n",
        "    np.random.seed(seed)\n",
        "    torch.manual_seed(seed)\n",
        "    torch.cuda.manual_seed(seed)\n",
        "    torch.cuda.manual_seed_all(seed)\n",
        "    torch.backends.cudnn.deterministic = True\n",
        "    torch.backends.cudnn.benchmark = False\n",
        "\n",
        "set_random_seed(1)  # 固定隨機種子，不可更改"
      ],
      "metadata": {
        "id": "AS6pFhXmQTAn"
      },
      "execution_count": 81,
      "outputs": []
    },
    {
      "cell_type": "markdown",
      "source": [
        "1.Data Augmentation(20分)"
      ],
      "metadata": {
        "id": "cG66Nf4FjKJA"
      }
    },
    {
      "cell_type": "code",
      "source": [
        "transform = transforms.Compose([\n",
        "    transforms.RandomHorizontalFlip(),  # 隨機水平翻轉\n",
        "    transforms.RandomCrop(32, padding=4),  # 隨機裁剪\n",
        "    transforms.ToTensor(),  # 僅轉換為tensor\n",
        "    transforms.Normalize((0.5, 0.5, 0.5), (0.5, 0.5, 0.5)) #進行標準化，使其均值為 0 和標準差為 1\n",
        "\n",
        "])\n"
      ],
      "metadata": {
        "id": "P3aGeQ1W6nQI"
      },
      "execution_count": 82,
      "outputs": []
    },
    {
      "cell_type": "code",
      "source": [
        "# 加載 CIFAR-10 原始資料集\n",
        "trainset_full = torchvision.datasets.CIFAR10(root='./data', train=True, download=True, transform=transform)\n",
        "\n",
        "# 將訓練集拆分為新的訓練集和驗證集，並固定隨機種子\n",
        "train_size = int(0.8 * len(trainset_full))  # 80% 作為訓練集\n",
        "valid_size = len(trainset_full) - train_size  # 20% 作為驗證集\n",
        "trainset, validset = torch.utils.data.random_split(trainset_full, [train_size, valid_size],\n",
        "                                                   generator=torch.Generator().manual_seed(1))  # 固定隨機種子，不可更改\n",
        "\n",
        "# 創建 DataLoader\n",
        "trainloader = DataLoader(trainset, batch_size=100, shuffle=True, num_workers=2)\n",
        "validloader = DataLoader(validset, batch_size=100, shuffle=False, num_workers=2)\n",
        "\n",
        "# 加載 CIFAR-10 測試集並創建 testloader\n",
        "testset = torchvision.datasets.CIFAR10(root='./data', train=False, download=True, transform=transform)\n",
        "testloader = DataLoader(testset, batch_size=100, shuffle=False, num_workers=2)\n",
        "\n",
        "# print資料集的大小\n",
        "print(f\"原始訓練集大小: {len(trainset_full)}\")\n",
        "print(f\"訓練集大小: {len(trainset)}\")\n",
        "print(f\"驗證集大小: {len(validset)}\")\n",
        "print(f\"測試集大小: {len(testset)}\")\n"
      ],
      "metadata": {
        "colab": {
          "base_uri": "https://localhost:8080/"
        },
        "id": "Ty49fq6I6sch",
        "outputId": "6124a139-956f-4ad5-d52d-ddda0cd05c82"
      },
      "execution_count": 83,
      "outputs": [
        {
          "output_type": "stream",
          "name": "stdout",
          "text": [
            "Files already downloaded and verified\n",
            "Files already downloaded and verified\n",
            "原始訓練集大小: 50000\n",
            "訓練集大小: 40000\n",
            "驗證集大小: 10000\n",
            "測試集大小: 10000\n"
          ]
        }
      ]
    },
    {
      "cell_type": "markdown",
      "source": [
        "2.Dropout、Batch Normalization(40分)"
      ],
      "metadata": {
        "id": "AU0kPUKkkiGR"
      }
    },
    {
      "cell_type": "code",
      "source": [
        "class SimpleCNN(nn.Module):\n",
        "    def __init__(self):\n",
        "        super(SimpleCNN, self).__init__()\n",
        "        self.conv1 = nn.Conv2d(3, 32, kernel_size=3, padding=1)  # 第一層卷積層\n",
        "        self.conv1_bn = nn.BatchNorm2d(32)  # 增加 Batch Normalization，使用 32 作為輸入，因為 32 是我們第一個 Conv 層的輸出\n",
        "\n",
        "        self.conv2 = nn.Conv2d(32, 64, kernel_size=3, padding=1)  # 第二層卷積層\n",
        "        self.conv2_bn = nn.BatchNorm2d(64)  # 增加 Batch Normalization，使用 64 作為輸入，因為 64 是我們第二個 Conv 層的輸出\n",
        "\n",
        "        self.pool = nn.MaxPool2d(2, 2)  # 池化層\n",
        "        self.fc1 = nn.Linear(64 * 8 * 8, 512)  # 全連接層1\n",
        "        self.fc2 = nn.Linear(512, 100)  # 全連接層2，對應100類\n",
        "        self.dropOut = nn.Dropout(0.1)  #Dropout層\n",
        "\n",
        "    def forward(self, x):\n",
        "        x = self.pool(self.conv1_bn(F.relu(self.conv1(x))))  # 卷積+ReLU+池化, 加入Batch Normalization\n",
        "        x = self.pool(self.conv2_bn(F.relu(self.conv2(x))))  # 卷積+ReLU+池化, 加入Batch Normalization\n",
        "\n",
        "        x = x.view(-1, 64 * 8 * 8)  # 展平輸入\n",
        "        x = F.relu(self.fc1(x))  # 全連接層1+ReLU\n",
        "        x = self.dropOut(x)   #Dropout 記得在展平後，全連接層前加入\n",
        "        x = self.fc2(x)  # 全連接層2 (輸出100類)\n",
        "        return x\n"
      ],
      "metadata": {
        "id": "9wqROOfQ6x5d"
      },
      "execution_count": 84,
      "outputs": []
    },
    {
      "cell_type": "markdown",
      "source": [
        "3.L1 or L2 Regularization(20分)"
      ],
      "metadata": {
        "id": "spMC5SXBknKo"
      }
    },
    {
      "cell_type": "code",
      "source": [
        "net = SimpleCNN().to(device)\n",
        "criterion = nn.CrossEntropyLoss()  # 交叉熵損失\n",
        "optimizer = optim.Adam(net.parameters(), lr=0.001 , weight_decay=0.001)  # Adam優化器\n",
        "#Weight_decay此參數在最佳化過程中自動對權重套用 L2 正規化。數值越高，正規化效果越強。\n"
      ],
      "metadata": {
        "id": "XASMTzra61DJ"
      },
      "execution_count": 85,
      "outputs": []
    },
    {
      "cell_type": "markdown",
      "source": [
        "4.完成EarlyStopping的設定，若5個EPOCH都沒有更好的結果，就停止訓練\n",
        "(5分)"
      ],
      "metadata": {
        "id": "NKnmbcxPuwl-"
      }
    },
    {
      "cell_type": "code",
      "source": [
        "# EarlyStopping 類別\n",
        "class EarlyStopping:\n",
        "    def __init__(self, patience=5, verbose=False):\n",
        "        self.patience = patience\n",
        "        self.verbose = verbose\n",
        "        self.counter = 0\n",
        "        self.best_loss = float('inf')\n",
        "        self.early_stop = False\n",
        "\n",
        "    def __call__(self, val_loss, model):\n",
        "        if val_loss < self.best_loss:\n",
        "            self.best_loss = val_loss\n",
        "            self.counter = 0\n",
        "            # 儲存最佳模型權重\n",
        "            torch.save(model.state_dict(), 'best_model.pth')\n",
        "        else:\n",
        "            self.counter += 1\n",
        "            if self.counter >= self.patience:\n",
        "                self.early_stop = True\n",
        "                if self.verbose:\n",
        "                    print(\"Early stopping triggered\")\n",
        "# 初始化 EarlyStopping\n",
        "early_stopping = EarlyStopping(patience=5, verbose=True)"
      ],
      "metadata": {
        "id": "2FOFNRziu90x"
      },
      "execution_count": 86,
      "outputs": []
    },
    {
      "cell_type": "markdown",
      "source": [
        "5.train_model增加EarlyStopping的判斷邏輯(5分)"
      ],
      "metadata": {
        "id": "-C2moGl52DOX"
      }
    },
    {
      "cell_type": "code",
      "source": [
        "\n",
        "\n",
        "def train_model(epochs):\n",
        "    train_losses = []\n",
        "    train_accuracies = []\n",
        "    valid_losses = []\n",
        "    valid_accuracies = []\n",
        "\n",
        "    for epoch in range(epochs):\n",
        "        running_loss = 0.0\n",
        "        correct = 0\n",
        "        total = 0\n",
        "\n",
        "        # 訓練過程\n",
        "        net.train()\n",
        "        for i, data in enumerate(trainloader, 0):\n",
        "            inputs, labels = data\n",
        "            inputs, labels = inputs.to(device), labels.to(device)\n",
        "\n",
        "            optimizer.zero_grad()\n",
        "            outputs = net(inputs)\n",
        "            loss = criterion(outputs, labels)\n",
        "            loss.backward()\n",
        "            optimizer.step()\n",
        "\n",
        "            running_loss += loss.item()\n",
        "            _, predicted = torch.max(outputs, 1)\n",
        "            total += labels.size(0)\n",
        "            correct += (predicted == labels).sum().item()\n",
        "\n",
        "        # 記錄訓練集的損失和準確率\n",
        "        train_loss = running_loss / len(trainloader)\n",
        "        train_accuracy = 100 * correct / total\n",
        "        train_losses.append(train_loss)\n",
        "        train_accuracies.append(train_accuracy)\n",
        "\n",
        "        # 驗證集評估\n",
        "        net.eval()\n",
        "        valid_loss = 0.0\n",
        "        valid_correct = 0\n",
        "        valid_total = 0\n",
        "        with torch.no_grad():\n",
        "            for data in validloader:\n",
        "                images, labels = data\n",
        "                images, labels = images.to(device), labels.to(device)\n",
        "                outputs = net(images)\n",
        "                loss = criterion(outputs, labels)\n",
        "                valid_loss += loss.item()\n",
        "                _, predicted = torch.max(outputs, 1)\n",
        "                valid_total += labels.size(0)\n",
        "                valid_correct += (predicted == labels).sum().item()\n",
        "\n",
        "        valid_loss = valid_loss / len(validloader)\n",
        "        valid_accuracy = 100 * valid_correct / valid_total\n",
        "        valid_losses.append(valid_loss)\n",
        "        valid_accuracies.append(valid_accuracy)\n",
        "\n",
        "        print(f'[Epoch {epoch+1}/{epochs}] Train loss: {train_loss:.4f}, Train accuracy: {train_accuracy:.2f}% | Validation loss: {valid_loss:.4f}, Validation accuracy: {valid_accuracy:.2f}%')\n",
        "\n",
        "    # 調用 Early Stopping\n",
        "        early_stopping(valid_loss, net)\n",
        "\n",
        "        if early_stopping.early_stop:\n",
        "            print(\"Training stopped early.\")\n",
        "            break\n",
        "\n",
        "    print('Finished Training')\n",
        "\n",
        "    return train_losses, train_accuracies, valid_losses, valid_accuracies\n"
      ],
      "metadata": {
        "id": "vIl-1cCM63uN"
      },
      "execution_count": 87,
      "outputs": []
    },
    {
      "cell_type": "code",
      "source": [
        "def test_model():\n",
        "    correct = 0\n",
        "    total = 0\n",
        "    with torch.no_grad():\n",
        "        for data in testloader:\n",
        "            images, labels = data\n",
        "            images, labels = images.to(device), labels.to(device)\n",
        "            outputs = net(images)\n",
        "            _, predicted = torch.max(outputs, 1)\n",
        "            total += labels.size(0)\n",
        "            correct += (predicted == labels).sum().item()\n",
        "\n",
        "    print(f'Accuracy on the 10000 test images: {100 * correct / total:.2f}%')\n"
      ],
      "metadata": {
        "id": "8O89sWvF7DAF"
      },
      "execution_count": 88,
      "outputs": []
    },
    {
      "cell_type": "code",
      "source": [
        "def plot_metrics(train_losses, train_accuracies, valid_losses, valid_accuracies):\n",
        "    epochs = range(1, len(train_losses) + 1)\n",
        "\n",
        "    # 損失圖表\n",
        "    plt.figure(figsize=(12, 5))\n",
        "\n",
        "    plt.subplot(1, 2, 1)\n",
        "    plt.plot(epochs, train_losses, 'bo-', label='Training Loss')\n",
        "    plt.plot(epochs, valid_losses, 'ro-', label='Validation Loss')\n",
        "    plt.title('Training and Validation Loss')\n",
        "    plt.xlabel('Epochs')\n",
        "    plt.ylabel('Loss')\n",
        "    plt.legend()\n",
        "\n",
        "    # 準確率圖表\n",
        "    plt.subplot(1, 2, 2)\n",
        "    plt.plot(epochs, train_accuracies, 'bo-', label='Training Accuracy')\n",
        "    plt.plot(epochs, valid_accuracies, 'ro-', label='Validation Accuracy')\n",
        "    plt.title('Training and Validation Accuracy')\n",
        "    plt.xlabel('Epochs')\n",
        "    plt.ylabel('Accuracy (%)')\n",
        "    plt.legend()\n",
        "\n",
        "    plt.show()\n"
      ],
      "metadata": {
        "id": "mirBt3Yv9rhN"
      },
      "execution_count": 89,
      "outputs": []
    },
    {
      "cell_type": "code",
      "source": [
        "# 訓練模型並獲取損失與準確率\n",
        "train_losses, train_accuracies, valid_losses, valid_accuracies = train_model(epochs=15)#epochs最多可以調整到15\n",
        "\n",
        "# 繪製圖表\n",
        "plot_metrics(train_losses, train_accuracies, valid_losses, valid_accuracies)"
      ],
      "metadata": {
        "colab": {
          "base_uri": "https://localhost:8080/",
          "height": 707
        },
        "id": "TyobsbHj7Ghq",
        "outputId": "24e5d081-0a00-4b0f-ccd0-bb822e74aa80"
      },
      "execution_count": 90,
      "outputs": [
        {
          "output_type": "stream",
          "name": "stdout",
          "text": [
            "[Epoch 1/15] Train loss: 1.4360, Train accuracy: 49.20% | Validation loss: 1.1815, Validation accuracy: 56.83%\n",
            "[Epoch 2/15] Train loss: 1.1001, Train accuracy: 60.53% | Validation loss: 1.0624, Validation accuracy: 61.89%\n",
            "[Epoch 3/15] Train loss: 0.9829, Train accuracy: 65.06% | Validation loss: 0.9769, Validation accuracy: 65.24%\n",
            "[Epoch 4/15] Train loss: 0.9089, Train accuracy: 68.17% | Validation loss: 0.9243, Validation accuracy: 67.69%\n",
            "[Epoch 5/15] Train loss: 0.8572, Train accuracy: 69.89% | Validation loss: 0.9106, Validation accuracy: 67.85%\n",
            "[Epoch 6/15] Train loss: 0.8256, Train accuracy: 70.86% | Validation loss: 0.8478, Validation accuracy: 70.04%\n",
            "[Epoch 7/15] Train loss: 0.7974, Train accuracy: 72.19% | Validation loss: 0.8256, Validation accuracy: 71.51%\n",
            "[Epoch 8/15] Train loss: 0.7828, Train accuracy: 72.70% | Validation loss: 0.8164, Validation accuracy: 71.19%\n",
            "[Epoch 9/15] Train loss: 0.7588, Train accuracy: 73.28% | Validation loss: 0.7935, Validation accuracy: 72.23%\n",
            "[Epoch 10/15] Train loss: 0.7442, Train accuracy: 74.05% | Validation loss: 0.7931, Validation accuracy: 71.97%\n",
            "[Epoch 11/15] Train loss: 0.7306, Train accuracy: 74.41% | Validation loss: 0.7797, Validation accuracy: 72.62%\n",
            "[Epoch 12/15] Train loss: 0.7250, Train accuracy: 74.68% | Validation loss: 0.8056, Validation accuracy: 71.86%\n",
            "[Epoch 13/15] Train loss: 0.7114, Train accuracy: 75.13% | Validation loss: 0.7436, Validation accuracy: 74.13%\n",
            "[Epoch 14/15] Train loss: 0.7012, Train accuracy: 75.17% | Validation loss: 0.7705, Validation accuracy: 73.08%\n",
            "[Epoch 15/15] Train loss: 0.7025, Train accuracy: 75.41% | Validation loss: 0.7371, Validation accuracy: 74.44%\n",
            "Finished Training\n"
          ]
        },
        {
          "output_type": "display_data",
          "data": {
            "text/plain": [
              "<Figure size 1200x500 with 2 Axes>"
            ],
            "image/png": "[encoded data removed]"
          },
          "metadata": {}
        }
      ]
    },
    {
      "cell_type": "markdown",
      "source": [
        "6.經過您改進的方法後,模型在測試集的Accuracy達到73.9%或以上(10分)"
      ],
      "metadata": {
        "id": "3-NljYufdn6u"
      }
    },
    {
      "cell_type": "code",
      "source": [
        "# 測試模型\n",
        "test_model()"
      ],
      "metadata": {
        "colab": {
          "base_uri": "https://localhost:8080/"
        },
        "id": "FEugdt_mAY0K",
        "outputId": "a5567b1e-8125-4987-984a-96ddc29c36e5"
      },
      "execution_count": 91,
      "outputs": [
        {
          "output_type": "stream",
          "name": "stdout",
          "text": [
            "Accuracy on the 10000 test images: 74.30%\n"
          ]
        }
      ]
    }
  ]
}